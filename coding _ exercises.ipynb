{
 "cells": [
  {
   "cell_type": "markdown",
   "metadata": {},
   "source": [
    "## What is this notebook for?\n",
    "\n",
    "This notebook it to help me learn basic programming concepts. \n",
    "\n",
    "#### What would I like to achieve?\n",
    "\n",
    "- Good understanding of Github\n",
    "- Good understanding of Python"
   ]
  },
  {
   "cell_type": "markdown",
   "metadata": {},
   "source": [
    "# Hello, World!\n",
    "\n",
    "The following code was created as my first attempt at programming in this course. It is meant to help me understand how to write and run code in GitHub Codespaces."
   ]
  },
  {
   "cell_type": "code",
   "execution_count": null,
   "metadata": {},
   "outputs": [
    {
     "name": "stdout",
     "output_type": "stream",
     "text": [
      "Hello, World!\n"
     ]
    }
   ],
   "source": [
    "print (\"Hello, World!\")"
   ]
  },
  {
   "cell_type": "markdown",
   "metadata": {},
   "source": [
    "# Printing\n",
    "\n",
    "### This is the prompt I submitted to CoPilot:\n",
    "Could you suggest a python code for ‘Hello, world!’ to demonstrate the concept of printing to a complete beginner in programming? Please explain the code step-by-step highlighting any key aspects.\n",
    "\n",
    "My key learning outcome is understanding how to explain a basic Python program to a complete beginner. I learned about: 1) the print function, which is used to display output, 2) what a string is and how to enclose it in quotation marks, and 3) how Python's simple and clean syntax makes it easy to read and write code."
   ]
  },
  {
   "cell_type": "code",
   "execution_count": null,
   "metadata": {},
   "outputs": [
    {
     "name": "stdout",
     "output_type": "stream",
     "text": [
      "Hello, world!\n"
     ]
    }
   ],
   "source": [
    "print(\"Hello, world!\")"
   ]
  },
  {
   "cell_type": "markdown",
   "metadata": {},
   "source": [
    "# Part 2: Understanding Code\n",
    "\n",
    "## The Purpose of this cell is to display the prompts I have submitted to Microsoft Copilot.\n",
    "\n",
    "1. Variables"
   ]
  },
  {
   "cell_type": "code",
   "execution_count": null,
   "metadata": {},
   "outputs": [],
   "source": [
    "# This is a comment. Comments are ignored by the Python interpreter.\n",
    "# They are used to explain the code.\n",
    "\n",
    "# We create a variable called 'message' and assign it the value \"Hello, world!\"\n",
    "message = \"Hello, world!\"\n",
    "\n",
    "# Now we use the print function to display the value of the 'message' variable.\n",
    "print(message)"
   ]
  },
  {
   "cell_type": "markdown",
   "metadata": {},
   "source": [
    "##### Step-by-Step Explanation:\n",
    "    1. Comments:\n",
    "        Lines starting with # are comments. They are not executed by the program and are used to explain what the code does. Comments are helpful for anyone reading the code to understand its purpose.\n",
    "    2. Variable Creation:\n",
    "        message = \"Hello, world!\": Here, we create a variable named message and assign it the value \"Hello, world!\". A variable is like a container that holds data. In this case, the data is the string \"Hello, world!\".\n",
    "    3. Printing the Variable:\n",
    "        print(message): The print function is used to display the value of the variable message on the screen. When the program runs, it will output Hello, world!.\n",
    "##### Key Aspects:\n",
    "    1. Variables: Variables store data that can be used and manipulated throughout the program. They make the code more flexible and easier to understand.\n",
    "    2. Assignment: The = sign is used to assign a value to a variable. In this example, the string \"Hello, world!\" is assigned to the variable message.\n",
    "    3. Print Function: The print function is used to output data to the screen. It can print variables, strings, numbers, and more.\n",
    "\n",
    "2. Functions"
   ]
  },
  {
   "cell_type": "code",
   "execution_count": null,
   "metadata": {},
   "outputs": [],
   "source": [
    "#### This is a comment. Comments are ignored by the Python interpreter.\n",
    "#### They are used to explain the code.\n",
    "##### We define a function called 'greet'.\n",
    "def greet():\n",
    "    # Inside the function, we create a variable called 'message' and assign it the value \"Hello, world!\"\n",
    "    message = \"Hello, world!\"\n",
    "    # Now we use the print function to display the value of the 'message' variable.\n",
    "    print(message)\n",
    "#### We call the 'greet' function to execute the code inside it.\n",
    "greet()"
   ]
  }
 ],
 "metadata": {
  "kernelspec": {
   "display_name": "Python 3",
   "language": "python",
   "name": "python3"
  },
  "language_info": {
   "codemirror_mode": {
    "name": "ipython",
    "version": 3
   },
   "file_extension": ".py",
   "mimetype": "text/x-python",
   "name": "python",
   "nbconvert_exporter": "python",
   "pygments_lexer": "ipython3",
   "version": "3.12.1"
  }
 },
 "nbformat": 4,
 "nbformat_minor": 2
}
