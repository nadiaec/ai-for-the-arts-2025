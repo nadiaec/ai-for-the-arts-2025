{
 "cells": [
  {
   "cell_type": "markdown",
   "id": "7e277b76",
   "metadata": {},
   "source": [
    "# DCOMpanion: The Disney Channel Original Movie Memory Maker\n",
    "\n",
    "### My idea for an application that uses a large language model would be DCOMpanion - an interactive AI-powered digital companion that lets users explore, reminisce, and learn from Disney Channel Original Movies through creative storytelling, nostalgia-based recommendations, and personalized media timelines."
   ]
  },
  {
   "cell_type": "markdown",
   "id": "013337d0",
   "metadata": {},
   "source": [
    "DCOM = Disney Channel Original Movie\n",
    "\n",
    "I came up with this idea because I focused on Disney Channel Original Movies for my Data Analysis and Visualization class. While I was digging through data for that project, I kept running into moments where I thought, “AI could actually make this way easier—and way more fun.” That's when I started thinking about how a language model trained specifically on Disney Channel content could help people explore the pop culture of the late 2000s and early 2010s in an interactive and creative way. I think this would really engage arts and humanities audiences because it blends media, storytelling, and cultural impact and analysis with AI. Additionally, I think it is really entertaining to ask AI questions like \"Who's the most iconic DCOM villain?\" or \"Which DCOM had the best soundtrack?\". This invited people to connect emotionally with the content while also thinking critically about representation, influence, and legacy."
   ]
  },
  {
   "cell_type": "markdown",
   "id": "2a2b19f8",
   "metadata": {},
   "source": [
    "#### Interaction Design\n",
    "##### Users\n",
    "- General Users / DCOM Fans: People who grew up watching DCOMs, now engage for nostalgia and/or for fun.\n",
    "- Students and Educators: Those using pop culture to study themes like identity, coming of age, representation, or youth culture.\n",
    "- Researchers: Looking into media history and celebrity culture of DCOM stars such as Zac Efron, Selena Gomez and Demi Lovato.\n",
    "\n",
    "##### AI\n",
    "- Large Language Model Core Assistant: This AI assistant will generate timelies, character summaries and character arcs over a DCOM series, quizzes and discussion prompts.\n",
    "- Recommendation System: This will suggest DCOMs based on user imputs such as emotional tone, music taste or themes (e.g empowerment, identity, friendship)\n",
    "\n",
    "##### Other Tools\n",
    "- An interactive timeline tool: This wil visualize when the DCOMs were released and how themes have evolved over time.\n",
    "- Multimedia Player: Embeds trailers and iconic scenes from each DCOM\n",
    "\n",
    "#### Use Case Scenario\n",
    "1. User opens the app and picks a mode such as: \"Nostalgia Trip\", or \"Create your own DCOM\".\n",
    "2. In \"Nostlagia Trip\" the Large Language Model can ask:\n",
    "    - \"Who was your favourite DCOM character?\"\n",
    "    - \"What is your favourite DCOM?\"\n",
    "    - \"What year were you most into Disney Channel?\"\n",
    "\n",
    "    Then it will generate:\n",
    "    - A summary called \"Where are they now?\" for the actors.\n",
    "    - A timeline or map of that eras DCOMs.\n",
    "    - Short analysis on why a particular DCOM was so popular.\n",
    "\n",
    "3. In \"Create your own DCOM\" the user selects the themes, character arch types, and a basic plot. Then the AI will then write a custom movie synopsis or opening scene.\n",
    "\n",
    "#### Value of the Design\n",
    "The value of this design lies in how it blends creativity, nostalgia, and learning into one interactive experience. It encourages users to engage with Disney Channel Original Movies in a way that's both personal and meaningful - whether they’re reflecting on childhood favourites, analyzing media themes, or creating their own stories. For fans, it’s a fun way to reconnect with the movies they grew up with. It also supports inclusion by allowing users to explore how themes like identity and representation have evolved over time, or even reimagine those stories from their own perspective (e.g writing alternate endings to movies like Camp Rock).\n",
    "\n",
    "#### Critical Reflection\n",
    "If DCOMpanion were to be implemented, it could offer a fun and engaging way for users to reconnect with their favourite childhood movies while also encouraging reflection on the themes and messages in DCOMs. However, many of these movies were made during a time when media representation was limited and often reinforced stereotypes or lacked diversity. Without careful design, the app could unintentionally amplify those biases or present outdated content without context. To avoid this, the AI would need to acknowledge and potentially highlight shifts in representation over time, giving users the tools to critically engage with the media and not just celebrate it. \n",
    "There is also the issue of how we use AI in creative spaces. While the app is designed to write stories, generate character arcs or remix DCOMs in new ways, there could be a risk that users rely too much on the AI to do the creative thinking for them. This could lead to less original content and the user may become more of a passive consumer rather than an active story teller. To avoid this, I think that DCOMpanion should be designed to act more like a co-writer or creative partner to encourage users to build on its suggestions rather than just accept them. This way the AI can enhance creativity instead of replacing it."
   ]
  }
 ],
 "metadata": {
  "language_info": {
   "name": "python"
  }
 },
 "nbformat": 4,
 "nbformat_minor": 5
}
